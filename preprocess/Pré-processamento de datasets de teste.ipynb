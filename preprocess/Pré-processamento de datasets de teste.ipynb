{
 "cells": [
  {
   "cell_type": "code",
   "execution_count": 1,
   "id": "initial_id",
   "metadata": {
    "collapsed": true,
    "ExecuteTime": {
     "end_time": "2023-11-16T03:40:23.523207800Z",
     "start_time": "2023-11-16T03:40:20.659231200Z"
    }
   },
   "outputs": [],
   "source": [
    "from datasets import load_dataset\n",
    "#from googletrans import Translator\n",
    "from tqdm import tqdm\n",
    "from llm.GepetoBase import ChatGPT\n",
    "import pandas as pd\n",
    "import numpy as np"
   ]
  },
  {
   "cell_type": "code",
   "execution_count": 2,
   "outputs": [],
   "source": [
    "# Função para traduzir o texto de inglês para português\n",
    "gpt = ChatGPT('../key.txt') \n",
    "\n",
    "def traduzir_texto(chat_gpt, prompt):\n",
    "    \n",
    "    chat_gpt.add_message(role=\"user\", prompt=prompt)\n",
    "\n",
    "    # fazendo inferencia\n",
    "    resposta, _ = chat_gpt.get_completion()\n",
    "\n",
    "    chat_gpt.reset_messages(maintain_context=False)\n",
    "    \n",
    "    return resposta"
   ],
   "metadata": {
    "collapsed": false,
    "ExecuteTime": {
     "end_time": "2023-11-16T03:40:23.538833900Z",
     "start_time": "2023-11-16T03:40:23.523207800Z"
    }
   },
   "id": "51deff9f3ebd8ea7"
  },
  {
   "cell_type": "code",
   "execution_count": 4,
   "outputs": [],
   "source": [
    "# estrutura para armazenar os dados processados. Cada elemento da lista é uma lista com 8 elementos: dataset do benchmark, pergunta, input, resposta, letra A, letra B, letra C e letra D.\n",
    "dados = []"
   ],
   "metadata": {
    "collapsed": false,
    "ExecuteTime": {
     "end_time": "2023-11-16T03:40:26.374246800Z",
     "start_time": "2023-11-16T03:40:26.358592400Z"
    }
   },
   "id": "e8077bbf5ae58e6e"
  },
  {
   "cell_type": "markdown",
   "source": [
    "# Pré-processando o dataset MedMCQA"
   ],
   "metadata": {
    "collapsed": false
   },
   "id": "bd27b4060e35b3b3"
  },
  {
   "cell_type": "code",
   "execution_count": 5,
   "outputs": [],
   "source": [
    "medmcqa = load_dataset('medmcqa')['validation']"
   ],
   "metadata": {
    "collapsed": false,
    "ExecuteTime": {
     "end_time": "2023-11-16T03:40:31.546298900Z",
     "start_time": "2023-11-16T03:40:27.384851800Z"
    }
   },
   "id": "bd01cac442a09fa1"
  },
  {
   "cell_type": "code",
   "execution_count": 6,
   "outputs": [
    {
     "name": "stderr",
     "output_type": "stream",
     "text": [
      "100%|██████████| 4183/4183 [4:01:04<00:00,  3.46s/it]     \n"
     ]
    }
   ],
   "source": [
    "for index in tqdm(range(len(medmcqa))):\n",
    "    pergunta = medmcqa[index]['question']+\"\\n\"\n",
    "    pergunta+=f\"A){medmcqa[index]['opa']}\\n\"\n",
    "    pergunta+=f\"B){medmcqa[index]['opb']}\\n\"\n",
    "    pergunta+=f\"C){medmcqa[index]['opc']}\\n\"\n",
    "    pergunta+=f\"D){medmcqa[index]['opd']}\\n\"\n",
    "    \n",
    "    correta = ['A','B', 'C', 'D']\n",
    "    \n",
    "    \n",
    "    prompt = f\"Você irá receber uma questão de múltipla escolha, em inglês, de modo que a você será passado o enunciado, junto com as alternativas, demarcadas por 'A)', 'B)', 'C)' e 'D)'. Você deve traduzir a pergunta e as suas alternativas para o português. Ao traduzir a pergunta, mantenha as alternativas 'A)', 'B)', 'C)' e 'D)', com suas respectivas traduções, não fuja desse formato. Também, fique atento a possíveis abreviações, expressões populares e polissemias, e traduza da melhor forma possível para o português, removendo possíveis ruídos do texto também. A pergunta/questão está marcada com a tag <pergunta>.\\n Retorne a tradução da pergunta e de suas alternativas em um json, de modo que a pergunta e as alternativas traduzidas estejam em chaves 'pergunta' e 'A', 'B', 'C', 'D' para as alternativas. Segue um exemplo, a ser seguido por você, de retorno: '{{'pergunta':'enunciado da questao', 'A': 'letra A', 'B': 'letra B', 'C': 'letra C', 'D': 'letra D'}}'.\\n\\n <pergunta> {pergunta} <pergunta> \\n.\"\n",
    "    \n",
    "    \n",
    "    try:\n",
    "        \n",
    "        resposta = traduzir_texto(gpt, prompt).replace('\\n', ' ')\n",
    "    \n",
    "        if resposta[-1] != \"}\":\n",
    "            resposta = resposta[:-1]\n",
    "            \n",
    "        resp = eval(resposta)\n",
    "        \n",
    "        dados.append(['MedMCQA', resp['pergunta'], np.nan, correta[medmcqa[index]['cop']], resp['A'], resp['B'], resp['C'], resp['D']])\n",
    "        \n",
    "    except SyntaxError:\n",
    "        \n",
    "        continue\n",
    "    \n",
    "    except:\n",
    "        gpt.reset_messages(maintain_context=False)\n",
    "        resposta = traduzir_texto(gpt, prompt[:int(len(prompt)*0.75)]).replace('\\n', ' ')\n",
    "    \n",
    "        if resposta[-1] != \"}\":\n",
    "            resposta = resposta[:-1]\n",
    "        \n",
    "        try:\n",
    "            resp = eval(resposta)\n",
    "            \n",
    "            dados.append(['MedMCQA', resp['pergunta'], np.nan, correta[medmcqa[index]['cop']], resp['A'], resp['B'], resp['C'], resp['D']])\n",
    "            \n",
    "        except:\n",
    "            \n",
    "            continue\n"
   ],
   "metadata": {
    "collapsed": false,
    "ExecuteTime": {
     "end_time": "2023-11-16T07:41:36.202390700Z",
     "start_time": "2023-11-16T03:40:31.546298900Z"
    }
   },
   "id": "54011cc8a2af29ab"
  },
  {
   "cell_type": "markdown",
   "source": [
    "# Pré-processando o dataset MedQA(USMLE)"
   ],
   "metadata": {
    "collapsed": false
   },
   "id": "30a003bb78ca391b"
  },
  {
   "cell_type": "code",
   "execution_count": 7,
   "outputs": [],
   "source": [
    "medqa = load_dataset('GBaker/MedQA-USMLE-4-options')['test']"
   ],
   "metadata": {
    "collapsed": false,
    "ExecuteTime": {
     "start_time": "2023-11-16T07:41:36.195574400Z"
    }
   },
   "id": "f372eceaccb08b57"
  },
  {
   "cell_type": "code",
   "execution_count": 8,
   "outputs": [
    {
     "name": "stderr",
     "output_type": "stream",
     "text": [
      "100%|██████████| 1273/1273 [3:44:12<00:00, 10.57s/it]   \n"
     ]
    }
   ],
   "source": [
    "for index in tqdm(range(len(medqa))):\n",
    "    \n",
    "    pergunta = medqa[index]['question']+\"\\n\"\n",
    "    pergunta+=f\"A){medqa[index]['options']['A']}\\n\"\n",
    "    pergunta+=f\"B){medqa[index]['options']['B']}\\n\"\n",
    "    pergunta+=f\"C){medqa[index]['options']['C']}\\n\"\n",
    "    pergunta+=f\"D){medqa[index]['options']['D']}\\n\"\n",
    "    \n",
    "    prompt = f\"Você irá receber uma questão de múltipla escolha, em inglês, de modo que a você será passado o enunciado, junto com as alternativas, demarcadas por 'A)', 'B)', 'C)' e 'D)'. Você deve traduzir a pergunta e as suas alternativas para o português. Também, fique atento a possíveis abreviações, expressões populares e polissemias, e traduza da melhor forma possível para o português, removendo possíveis ruídos do texto também. A pergunta/questão está marcada com a tag <pergunta>.\\n Retorne a tradução da pergunta e de suas alternativas em um json, de modo que a pergunta e as alternativas traduzidas estejam em chaves 'pergunta' e 'A', 'B', 'C', 'D' para as alternativas. Segue um exemplo, a ser seguido por você, de retorno: '{{'pergunta':'enunciado da questao', 'A': 'letra A', 'B': 'letra B', 'C': 'letra C', 'D': 'letra D'}}'. Não fuja desse formato, sempre crie uma chave para cada alternativa no dicionário, só retorne a resposta no formato do exemplo.\\n\\n <pergunta> {pergunta} <pergunta> \\n.\"\n",
    "    \n",
    "    try:\n",
    "        \n",
    "        resposta = traduzir_texto(gpt, prompt).replace('\\n', ' ')\n",
    "    \n",
    "        if resposta[-1] != \"}\":\n",
    "            resposta = resposta[:-1]\n",
    "            \n",
    "        resp = eval(resposta)\n",
    "        \n",
    "        dados.append(['MedQA (USMLE)', resp['pergunta'], np.nan, medqa[index]['answer_idx'], resp['A'], resp['B'], resp['C'], resp['D']])\n",
    "        \n",
    "    except SyntaxError:\n",
    "        \n",
    "        continue\n",
    "    \n",
    "    except:\n",
    "        gpt.reset_messages(maintain_context=False)\n",
    "        resposta = traduzir_texto(gpt, prompt[:int(len(prompt)*0.75)]).replace('\\n', ' ')\n",
    "    \n",
    "        if resposta[-1] != \"}\":\n",
    "            resposta = resposta[:-1]\n",
    "        \n",
    "        try:\n",
    "            resp = eval(resposta)\n",
    "            \n",
    "            dados.append(['MedQA (USMLE)', resp['pergunta'], np.nan, medqa[index]['answer_idx'], resp['A'], resp['B'], resp['C'], resp['D']])\n",
    "            \n",
    "        except:\n",
    "            \n",
    "            continue    "
   ],
   "metadata": {
    "collapsed": false,
    "ExecuteTime": {
     "start_time": "2023-11-16T07:41:42.388357200Z"
    }
   },
   "id": "6993ffce44571797"
  },
  {
   "cell_type": "markdown",
   "source": [
    "# Pré-processando o dataset PubMedQA"
   ],
   "metadata": {
    "collapsed": false
   },
   "id": "30c086126e248f68"
  },
  {
   "cell_type": "code",
   "execution_count": 9,
   "outputs": [],
   "source": [
    "pubmedqa = load_dataset('hippocrates/pubmedqa_test')['test']"
   ],
   "metadata": {
    "collapsed": false,
    "ExecuteTime": {
     "start_time": "2023-11-16T11:25:54.560366700Z"
    }
   },
   "id": "d1feef30f4323a68"
  },
  {
   "cell_type": "code",
   "execution_count": 10,
   "outputs": [
    {
     "name": "stderr",
     "output_type": "stream",
     "text": [
      "100%|██████████| 500/500 [1:03:52<00:00,  7.67s/it]\n"
     ]
    }
   ],
   "source": [
    "for index in tqdm(range(len(pubmedqa))):\n",
    "    \n",
    "    instruction = pubmedqa[index]['query'].split('INPUT')[0] + pubmedqa[index]['query'].split('INPUT')[1][2:].split(']')[1].split('OUTPUT')[0].strip()\n",
    "    \n",
    "    input = pubmedqa[index]['query'].split('INPUT')[1][2:].split(']')[0][1:]\n",
    "    \n",
    "    output = pubmedqa[index]['answer']\n",
    "    \n",
    "    prompt = f\"Você irá receber uma pergunta, em inglês, relacionada ao tema da saúde. Além disso, você irá receber dados adicionais que servem para auxiliar na pergunta e também irá receber a resposta para a questão. Você deve traduzir a pergunta, os dados adicionais e a resposta para o português. Também, fique atento a possíveis abreviações, expressões populares e polissemias, e traduza da melhor forma possível para o português, removendo possíveis ruídos do texto também. A pergunta está marcada com a tag <pergunta>, os dados adicionais estão marcados com <info> e a resposta está marcada com <resposta>.\\n Retorne a tradução da pergunta, dados adicionais e resposta em um json, de modo que a pergunta, dados adicionais e resposta estejam em chaves 'pergunta', 'info', 'resposta', respectivamente. Segue um exemplo, a ser seguido por você, de retorno: '{{'pergunta':'enunciado da pergunta', 'info': 'dados adicionais', 'resposta':'resposta traduzida'}}'.\\n\\n <pergunta> {instruction} <pergunta>\\n\\n <info> {input} <info>\\n\\n<resposta> {output} <resposta> \\n.\"\n",
    "    \n",
    "    \n",
    "    try:\n",
    "        \n",
    "        resposta = traduzir_texto(gpt, prompt).replace('\\n', ' ')\n",
    "    \n",
    "        if resposta[-1] != \"}\":\n",
    "            resposta = resposta[:-1]\n",
    "            \n",
    "        resp = eval(resposta)\n",
    "        \n",
    "        dados.append(['PubMedQA', resp['pergunta'], resp['info'], resp['resposta'], np.nan, np.nan, np.nan, np.nan])\n",
    "        \n",
    "    except SyntaxError:\n",
    "        \n",
    "        continue\n",
    "    \n",
    "    except:\n",
    "        gpt.reset_messages(maintain_context=False)\n",
    "        resposta = traduzir_texto(gpt, prompt[:int(len(prompt)*0.75)]).replace('\\n', ' ')\n",
    "    \n",
    "        if resposta[-1] != \"}\":\n",
    "            resposta = resposta[:-1]\n",
    "        \n",
    "        try:\n",
    "            resp = eval(resposta)\n",
    "            \n",
    "            dados.append(['PubMedQA', resp['pergunta'], resp['info'], resp['resposta'], np.nan, np.nan, np.nan, np.nan])\n",
    "            \n",
    "        except:\n",
    "            \n",
    "            continue"
   ],
   "metadata": {
    "collapsed": false,
    "ExecuteTime": {
     "start_time": "2023-11-16T11:26:00.733078800Z"
    }
   },
   "id": "d895b1791cf84f3b"
  },
  {
   "cell_type": "markdown",
   "source": [
    "# Pré-processando o dataset MMLU"
   ],
   "metadata": {
    "collapsed": false
   },
   "id": "911051446bd7a1ef"
  },
  {
   "cell_type": "code",
   "execution_count": 11,
   "outputs": [],
   "source": [
    "subjects = ['anatomy', 'clinical_knowledge', 'college_medicine', 'medical_genetics', 'professional_medicine', 'college_biology']"
   ],
   "metadata": {
    "collapsed": false,
    "ExecuteTime": {
     "start_time": "2023-11-16T12:29:53.533577100Z"
    }
   },
   "id": "af5ea13c0e645037"
  },
  {
   "cell_type": "code",
   "execution_count": 12,
   "outputs": [
    {
     "name": "stderr",
     "output_type": "stream",
     "text": [
      "100%|██████████| 135/135 [06:32<00:00,  2.91s/it]\n",
      "100%|██████████| 265/265 [32:34<00:00,  7.37s/it]   \n",
      "100%|██████████| 173/173 [10:55<00:00,  3.79s/it]\n",
      "100%|██████████| 100/100 [04:24<00:00,  2.65s/it]\n",
      "100%|██████████| 272/272 [33:31<00:00,  7.39s/it]\n",
      "100%|██████████| 144/144 [09:08<00:00,  3.81s/it]\n"
     ]
    }
   ],
   "source": [
    "correta = ['A','B', 'C', 'D']\n",
    "for subject in subjects:\n",
    "    \n",
    "    mmlu = load_dataset('cais/mmlu',subject)['test']\n",
    "\n",
    "    for index in tqdm(range(len(mmlu))):\n",
    "        \n",
    "            \n",
    "        pergunta = mmlu[index]['question']+\"\\n\"\n",
    "        pergunta+=f\"[Alt.A]{mmlu[index]['choices'][0]}\\n\"\n",
    "        pergunta+=f\"[Alt.B]{mmlu[index]['choices'][1]}\\n\"\n",
    "        pergunta+=f\"[Alt.C]{mmlu[index]['choices'][2]}\\n\"\n",
    "        pergunta+=f\"[Alt.D]{mmlu[index]['choices'][3]}\\n\"\n",
    "        \n",
    "        prompt = f\"Você irá receber uma questão de múltipla escolha, em inglês, de modo que a você será passado o enunciado, junto com as alternativas, demarcadas por 'A)', 'B)', 'C)' e 'D)'. Você deve traduzir a pergunta e as suas alternativas para o português. Ao traduzir a pergunta, mantenha as alternativas 'A)', 'B)', 'C)' e 'D)', com suas respectivas traduções, não fuja desse formato. Também, fique atento a possíveis abreviações, expressões populares e polissemias, e traduza da melhor forma possível para o português, removendo possíveis ruídos do texto também. A pergunta/questão está marcada com a tag <pergunta>.\\n Retorne a tradução da pergunta e de suas alternativas em um json, de modo que a pergunta e as alternativas traduzidas estejam em chaves 'pergunta' e 'A', 'B', 'C', 'D' para as alternativas. Segue um exemplo, a ser seguido por você, de retorno: '{{'pergunta':'enunciado da questao', 'A': 'letra A', 'B': 'letra B', 'C': 'letra C', 'D': 'letra D'}}'.\\n\\n <pergunta> {pergunta} <pergunta> \\n.\"\n",
    "    \n",
    "    \n",
    "        try:\n",
    "            \n",
    "            resposta = traduzir_texto(gpt, prompt).replace('\\n', ' ')\n",
    "        \n",
    "            if resposta[-1] != \"}\":\n",
    "                resposta = resposta[:-1]\n",
    "                \n",
    "            resp = eval(resposta)\n",
    "            \n",
    "            dados.append([f'MMLU/{subject}', resp['pergunta'], np.nan, correta[mmlu[index]['answer']], resp['A'], resp['B'], resp['C'], resp['D']])\n",
    "            \n",
    "        except SyntaxError:\n",
    "            \n",
    "            continue\n",
    "        \n",
    "        except:\n",
    "            gpt.reset_messages(maintain_context=False)\n",
    "            resposta = traduzir_texto(gpt, prompt[:int(len(prompt)*0.75)]).replace('\\n', ' ')\n",
    "        \n",
    "            if resposta[-1] != \"}\":\n",
    "                resposta = resposta[:-1]\n",
    "            \n",
    "            try:\n",
    "                resp = eval(resposta)\n",
    "                \n",
    "                dados.append([f'MMLU/{subject}', resp['pergunta'], np.nan, correta[mmlu[index]['answer']], resp['A'], resp['B'], resp['C'], resp['D']])\n",
    "                \n",
    "            except:\n",
    "                \n",
    "                continue\n",
    "        \n",
    "        "
   ],
   "metadata": {
    "collapsed": false,
    "ExecuteTime": {
     "start_time": "2023-11-16T12:29:53.549222900Z"
    }
   },
   "id": "e3b15de3bb7e4297"
  },
  {
   "cell_type": "markdown",
   "source": [
    "# Reunindo os dados captados em um DataFrame"
   ],
   "metadata": {
    "collapsed": false
   },
   "id": "a9a0e8feca8cfc1c"
  },
  {
   "cell_type": "code",
   "execution_count": 13,
   "outputs": [],
   "source": [
    "import pandas as pd"
   ],
   "metadata": {
    "collapsed": false,
    "ExecuteTime": {
     "start_time": "2023-11-16T14:11:13.405061400Z"
    }
   },
   "id": "da841490786fa906"
  },
  {
   "cell_type": "code",
   "execution_count": 118,
   "outputs": [],
   "source": [
    "df = pd.DataFrame(dados, columns=['dataset', 'instruction', 'input', 'output', 'alternative_a', 'alternative_b', 'alternative_c', 'alternative_d'])"
   ],
   "metadata": {
    "collapsed": false,
    "ExecuteTime": {
     "end_time": "2023-11-16T14:51:08.483265900Z",
     "start_time": "2023-11-16T14:51:08.452007100Z"
    }
   },
   "id": "8e59087b0b031540"
  },
  {
   "cell_type": "code",
   "execution_count": 123,
   "outputs": [
    {
     "data": {
      "text/plain": "(7045, 8)"
     },
     "execution_count": 123,
     "metadata": {},
     "output_type": "execute_result"
    }
   ],
   "source": [
    "df.shape"
   ],
   "metadata": {
    "collapsed": false,
    "ExecuteTime": {
     "end_time": "2023-11-16T14:52:06.028993900Z",
     "start_time": "2023-11-16T14:52:06.013339900Z"
    }
   },
   "id": "da4e033a025b14a4"
  },
  {
   "cell_type": "code",
   "execution_count": 124,
   "outputs": [
    {
     "data": {
      "text/plain": "                         dataset  \\\n0                        MedMCQA   \n1                        MedMCQA   \n2                        MedMCQA   \n3                        MedMCQA   \n4                        MedMCQA   \n...                          ...   \n7040                    PubMedQA   \n7041                    PubMedQA   \n7042     MMLU/clinical_knowledge   \n7043       MMLU/college_medicine   \n7044  MMLU/professional_medicine   \n\n                                            instruction  \\\n0     Qual das seguintes afirmações não é verdadeira...   \n1     Qual das seguintes afirmações não é verdadeira...   \n2     Uma mulher de 29 anos com uma gravidez de 17 s...   \n3                                O transporte axonal é:   \n4     A relação baixa de insulina para glucagon é vi...   \n...                                                 ...   \n7040  Tarefa: Sua tarefa é responder a perguntas bio...   \n7041  Tarefa: Sua tarefa é responder a perguntas bio...   \n7042                                o que é 'coring'?\\n   \n7043  para determinar a mudança de doppler na frequê...   \n7044  uma fêmea gravida 3, de 25 anos, é admitida no...   \n\n                                                  input  output  \\\n0                                                   NaN       A   \n1                                                   NaN       A   \n2                                                   NaN       C   \n3                                                   NaN       C   \n4                                                   NaN       A   \n...                                                 ...     ...   \n7040  ['Francófonos podem experimentar uma saúde mai...  talvez   \n7041  ['Feedback dos resultados é o processo de apre...  talvez   \n7042                                                NaN       D   \n7043                                                NaN       D   \n7044                                                NaN       D   \n\n                                          alternative_a  \\\n0     O impulso através das fibras mielinizadas é ma...   \n1     A pressão oncótica do fluido que sai dos capil...   \n2     Não é necessário nenhum teste agora, pois sua ...   \n3                                           Anterógrado   \n4                                 Síntese de glicogênio   \n...                                                 ...   \n7040                                                NaN   \n7041                                                NaN   \n7042                           um sintoma de flebite.\\n   \n7043                                        eu apenas\\n   \n7044              administrar um anestésico peridural\\n   \n\n                                          alternative_b  \\\n0     Correntes de membrana são geradas nos nós de R...   \n1     A concentração de glicose nos capilares é a me...   \n2     O ultrassom neste momento definitivamente dirá...   \n3                                            Retrogrado   \n4                                  Quebra de glicogênio   \n...                                                 ...   \n7040                                                NaN   \n7041                                                NaN   \n7042    titulação de uma droga com o efeito desejado.\\n   \n7043                                          i e iii\\n   \n7044                    administre terapia tocolítica\\n   \n\n                                          alternative_c  \\\n0        A condução saltatória dos impulsos é observada   \n1     A constrição da arteríola aferente diminui o f...   \n2     Amostras de líquido amniótico mais análise cro...   \n3                              Anterógrado e retrogrado   \n4                                        Gluconeogênese   \n...                                                 ...   \n7040                                                NaN   \n7041                                                NaN   \n7042   a entrega da medicação diretamente na corrent...   \n7043                                          ii e iv\\n   \n7044       aplique corticosteróides tópicos cervicais\\n   \n\n                                          alternative_d  \n0     A anestesia local é eficaz apenas quando o ner...  \n1     O hematócrito do fluido que sai dos capilares ...  \n2     A triagem sanguínea neste momento esclarecerá ...  \n3                                                Nenhum  \n4                                            Cetogênese  \n...                                                 ...  \n7040                                                NaN  \n7041                                                NaN  \n7042   quando os medicamentos são retirados de um fr...  \n7043                                             i e iv  \n7044                  aumentar o trabalho com ocitocina  \n\n[7045 rows x 8 columns]",
      "text/html": "<div>\n<style scoped>\n    .dataframe tbody tr th:only-of-type {\n        vertical-align: middle;\n    }\n\n    .dataframe tbody tr th {\n        vertical-align: top;\n    }\n\n    .dataframe thead th {\n        text-align: right;\n    }\n</style>\n<table border=\"1\" class=\"dataframe\">\n  <thead>\n    <tr style=\"text-align: right;\">\n      <th></th>\n      <th>dataset</th>\n      <th>instruction</th>\n      <th>input</th>\n      <th>output</th>\n      <th>alternative_a</th>\n      <th>alternative_b</th>\n      <th>alternative_c</th>\n      <th>alternative_d</th>\n    </tr>\n  </thead>\n  <tbody>\n    <tr>\n      <th>0</th>\n      <td>MedMCQA</td>\n      <td>Qual das seguintes afirmações não é verdadeira...</td>\n      <td>NaN</td>\n      <td>A</td>\n      <td>O impulso através das fibras mielinizadas é ma...</td>\n      <td>Correntes de membrana são geradas nos nós de R...</td>\n      <td>A condução saltatória dos impulsos é observada</td>\n      <td>A anestesia local é eficaz apenas quando o ner...</td>\n    </tr>\n    <tr>\n      <th>1</th>\n      <td>MedMCQA</td>\n      <td>Qual das seguintes afirmações não é verdadeira...</td>\n      <td>NaN</td>\n      <td>A</td>\n      <td>A pressão oncótica do fluido que sai dos capil...</td>\n      <td>A concentração de glicose nos capilares é a me...</td>\n      <td>A constrição da arteríola aferente diminui o f...</td>\n      <td>O hematócrito do fluido que sai dos capilares ...</td>\n    </tr>\n    <tr>\n      <th>2</th>\n      <td>MedMCQA</td>\n      <td>Uma mulher de 29 anos com uma gravidez de 17 s...</td>\n      <td>NaN</td>\n      <td>C</td>\n      <td>Não é necessário nenhum teste agora, pois sua ...</td>\n      <td>O ultrassom neste momento definitivamente dirá...</td>\n      <td>Amostras de líquido amniótico mais análise cro...</td>\n      <td>A triagem sanguínea neste momento esclarecerá ...</td>\n    </tr>\n    <tr>\n      <th>3</th>\n      <td>MedMCQA</td>\n      <td>O transporte axonal é:</td>\n      <td>NaN</td>\n      <td>C</td>\n      <td>Anterógrado</td>\n      <td>Retrogrado</td>\n      <td>Anterógrado e retrogrado</td>\n      <td>Nenhum</td>\n    </tr>\n    <tr>\n      <th>4</th>\n      <td>MedMCQA</td>\n      <td>A relação baixa de insulina para glucagon é vi...</td>\n      <td>NaN</td>\n      <td>A</td>\n      <td>Síntese de glicogênio</td>\n      <td>Quebra de glicogênio</td>\n      <td>Gluconeogênese</td>\n      <td>Cetogênese</td>\n    </tr>\n    <tr>\n      <th>...</th>\n      <td>...</td>\n      <td>...</td>\n      <td>...</td>\n      <td>...</td>\n      <td>...</td>\n      <td>...</td>\n      <td>...</td>\n      <td>...</td>\n    </tr>\n    <tr>\n      <th>7040</th>\n      <td>PubMedQA</td>\n      <td>Tarefa: Sua tarefa é responder a perguntas bio...</td>\n      <td>['Francófonos podem experimentar uma saúde mai...</td>\n      <td>talvez</td>\n      <td>NaN</td>\n      <td>NaN</td>\n      <td>NaN</td>\n      <td>NaN</td>\n    </tr>\n    <tr>\n      <th>7041</th>\n      <td>PubMedQA</td>\n      <td>Tarefa: Sua tarefa é responder a perguntas bio...</td>\n      <td>['Feedback dos resultados é o processo de apre...</td>\n      <td>talvez</td>\n      <td>NaN</td>\n      <td>NaN</td>\n      <td>NaN</td>\n      <td>NaN</td>\n    </tr>\n    <tr>\n      <th>7042</th>\n      <td>MMLU/clinical_knowledge</td>\n      <td>o que é 'coring'?\\n</td>\n      <td>NaN</td>\n      <td>D</td>\n      <td>um sintoma de flebite.\\n</td>\n      <td>titulação de uma droga com o efeito desejado.\\n</td>\n      <td>a entrega da medicação diretamente na corrent...</td>\n      <td>quando os medicamentos são retirados de um fr...</td>\n    </tr>\n    <tr>\n      <th>7043</th>\n      <td>MMLU/college_medicine</td>\n      <td>para determinar a mudança de doppler na frequê...</td>\n      <td>NaN</td>\n      <td>D</td>\n      <td>eu apenas\\n</td>\n      <td>i e iii\\n</td>\n      <td>ii e iv\\n</td>\n      <td>i e iv</td>\n    </tr>\n    <tr>\n      <th>7044</th>\n      <td>MMLU/professional_medicine</td>\n      <td>uma fêmea gravida 3, de 25 anos, é admitida no...</td>\n      <td>NaN</td>\n      <td>D</td>\n      <td>administrar um anestésico peridural\\n</td>\n      <td>administre terapia tocolítica\\n</td>\n      <td>aplique corticosteróides tópicos cervicais\\n</td>\n      <td>aumentar o trabalho com ocitocina</td>\n    </tr>\n  </tbody>\n</table>\n<p>7045 rows × 8 columns</p>\n</div>"
     },
     "execution_count": 124,
     "metadata": {},
     "output_type": "execute_result"
    }
   ],
   "source": [
    "df"
   ],
   "metadata": {
    "collapsed": false,
    "ExecuteTime": {
     "end_time": "2023-11-16T14:52:08.289533900Z",
     "start_time": "2023-11-16T14:52:08.273921Z"
    }
   },
   "id": "56f9d7749ac6a1aa"
  },
  {
   "cell_type": "code",
   "execution_count": 121,
   "outputs": [
    {
     "data": {
      "text/plain": "dataset\nMedMCQA                       4183\nMedQA (USMLE)                 1273\nPubMedQA                       500\nMMLU/professional_medicine     272\nMMLU/clinical_knowledge        265\nMMLU/college_medicine          173\nMMLU/college_biology           144\nMMLU/anatomy                   135\nMMLU/medical_genetics          100\nName: count, dtype: int64"
     },
     "execution_count": 121,
     "metadata": {},
     "output_type": "execute_result"
    }
   ],
   "source": [
    "df.dataset.value_counts()"
   ],
   "metadata": {
    "collapsed": false,
    "ExecuteTime": {
     "end_time": "2023-11-16T14:51:19.956857500Z",
     "start_time": "2023-11-16T14:51:19.941148Z"
    }
   },
   "id": "16b74b72b16c0cfc"
  },
  {
   "cell_type": "code",
   "execution_count": 125,
   "outputs": [],
   "source": [
    "df.to_csv('../dados/teste/drbyte_ptbr_teste.csv', index=False)"
   ],
   "metadata": {
    "collapsed": false,
    "ExecuteTime": {
     "end_time": "2023-11-16T14:52:14.013984800Z",
     "start_time": "2023-11-16T14:52:13.935727100Z"
    }
   },
   "id": "237657143cf0cca6"
  },
  {
   "cell_type": "code",
   "execution_count": null,
   "outputs": [],
   "source": [],
   "metadata": {
    "collapsed": false
   },
   "id": "6a9e05d6f0666bf1"
  }
 ],
 "metadata": {
  "kernelspec": {
   "display_name": "Python 3",
   "language": "python",
   "name": "python3"
  },
  "language_info": {
   "codemirror_mode": {
    "name": "ipython",
    "version": 2
   },
   "file_extension": ".py",
   "mimetype": "text/x-python",
   "name": "python",
   "nbconvert_exporter": "python",
   "pygments_lexer": "ipython2",
   "version": "2.7.6"
  }
 },
 "nbformat": 4,
 "nbformat_minor": 5
}
