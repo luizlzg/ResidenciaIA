{
 "cells": [
  {
   "cell_type": "code",
   "execution_count": 1,
   "id": "initial_id",
   "metadata": {
    "collapsed": true,
    "ExecuteTime": {
     "end_time": "2023-11-15T12:46:47.711889900Z",
     "start_time": "2023-11-15T12:46:45.376109900Z"
    }
   },
   "outputs": [],
   "source": [
    "from datasets import load_dataset\n",
    "#from googletrans import Translator\n",
    "from tqdm import tqdm\n",
    "from llm.GepetoBase import ChatGPT\n",
    "import pandas as pd"
   ]
  },
  {
   "cell_type": "code",
   "execution_count": 3,
   "outputs": [],
   "source": [
    "# Função para traduzir o texto de inglês para português\n",
    "gpt = ChatGPT('../key.txt') \n",
    "\n",
    "def traduzir_texto(chat_gpt, prompt):\n",
    "    \n",
    "    chat_gpt.add_message(role=\"user\", prompt=prompt)\n",
    "\n",
    "    # fazendo inferencia\n",
    "    resposta, _ = chat_gpt.get_completion()\n",
    "\n",
    "    chat_gpt.reset_messages(maintain_context=False)\n",
    "    \n",
    "    return resposta"
   ],
   "metadata": {
    "collapsed": false,
    "ExecuteTime": {
     "end_time": "2023-11-15T12:46:50.981652100Z",
     "start_time": "2023-11-15T12:46:50.965618700Z"
    }
   },
   "id": "e60416dd05fb604"
  },
  {
   "cell_type": "code",
   "execution_count": 4,
   "outputs": [],
   "source": [
    "# estrutura para armazenar os dados processados. Cada elemento da lista é uma lista com 2 elementos: pergunta e resposta.\n",
    "dados = []"
   ],
   "metadata": {
    "collapsed": false,
    "ExecuteTime": {
     "end_time": "2023-11-15T12:46:53.638158700Z",
     "start_time": "2023-11-15T12:46:53.598100300Z"
    }
   },
   "id": "e8077bbf5ae58e6e"
  },
  {
   "cell_type": "markdown",
   "source": [
    "# Pré-processando o dataset MedicationQA"
   ],
   "metadata": {
    "collapsed": false
   },
   "id": "9879d5f4e48bdac4"
  },
  {
   "cell_type": "code",
   "execution_count": 5,
   "outputs": [],
   "source": [
    "medicationqa = load_dataset('truehealth/medicationqa')['train']"
   ],
   "metadata": {
    "collapsed": false,
    "ExecuteTime": {
     "end_time": "2023-11-15T12:47:00.336842700Z",
     "start_time": "2023-11-15T12:46:56.509228100Z"
    }
   },
   "id": "6c1ff4c16478266a"
  },
  {
   "cell_type": "code",
   "execution_count": 6,
   "outputs": [
    {
     "data": {
      "text/plain": "{'Question': 'how does rivatigmine and otc sleep medicine interact',\n 'Focus (Drug)': 'rivastigmine',\n 'Question Type': 'Interaction',\n 'Answer': \"tell your doctor and pharmacist what prescription and nonprescription medications, vitamins, nutritional supplements, and herbal products you are taking or plan to take. Be sure to mention any of the following: antihistamines; aspirin and other nonsteroidal anti-inflammatory medications (NSAIDs) such as ibuprofen (Advil, Motrin) and naproxen (Aleve, Naprosyn); bethanechol (Duvoid, Urecholine); ipratropium (Atrovent, in Combivent, DuoNeb); and medications for Alzheimer's disease, glaucoma, irritable bowel disease, motion sickness, ulcers, or urinary problems. Your doctor may need to change the doses of your medications or monitor you carefully for side effects.\",\n 'Section Title': 'What special precautions should I follow?',\n 'URL': 'https://medlineplus.gov/druginfo/meds/a602009.html'}"
     },
     "execution_count": 6,
     "metadata": {},
     "output_type": "execute_result"
    }
   ],
   "source": [
    "medicationqa[0]"
   ],
   "metadata": {
    "collapsed": false,
    "ExecuteTime": {
     "end_time": "2023-11-14T14:44:39.512451700Z",
     "start_time": "2023-11-14T14:44:39.496431900Z"
    }
   },
   "id": "d1f834520885a11b"
  },
  {
   "cell_type": "code",
   "execution_count": 10,
   "outputs": [
    {
     "name": "stderr",
     "output_type": "stream",
     "text": [
      "100%|██████████| 562/562 [56:53<00:00,  6.07s/it]   \n"
     ]
    }
   ],
   "source": [
    "for index in tqdm(range(len(medicationqa))):\n",
    "    \n",
    "    prompt = f\"Você irá receber uma pergunta e uma resposta, sobre medicamentos, em inglês. Você deve traduzir a pergunta e a resposta para o português. Para isso, fique atento a possíveis abreviações, expressões populares e polissemias, e traduza da melhor forma possível para o português, removendo possíveis ruídos do texto também. A pergunta está marcada com a tag <pergunta> e a resposta com a tag <resposta>. Há APENAS UMA PERGUNTA E UMA RESPOSTA.\\nRetorne a tradução da pergunta e da resposta em um json, de modo que a pergunta e a resposta traduzidas estejam em chaves 'pergunta' e 'resposta'. Segue um exemplo de retorno: '{{'pergunta':'pergunta traduzida', 'resposta':'resposta traduzida'}}'.\\n\\n <pergunta> {medicationqa[index]['Question']} <pergunta> \\n\\n <resposta> {medicationqa[index]['Answer']} <resposta> \\n.\"\n",
    "    \n",
    "    try:\n",
    "        \n",
    "        resposta = traduzir_texto(gpt, prompt).replace('\\n', ' ')\n",
    "    \n",
    "        if resposta[-1] != \"}\":\n",
    "            resposta = resposta[:-1]\n",
    "            \n",
    "        resp = eval(resposta)\n",
    "        \n",
    "        dados.append([resp['pergunta'], resp['resposta']])\n",
    "        \n",
    "    except SyntaxError:\n",
    "        continue\n",
    "    \n",
    "    except:\n",
    "        gpt.reset_messages(maintain_context=False)\n",
    "        resposta = traduzir_texto(gpt, prompt[:int(len(prompt)*0.75)]).replace('\\n', ' ')\n",
    "    \n",
    "        if resposta[-1] != \"}\":\n",
    "            resposta = resposta[:-1]\n",
    "        \n",
    "        try:\n",
    "            resp = eval(resposta)\n",
    "            \n",
    "            dados.append([resp['pergunta'], resp['resposta']])\n",
    "            \n",
    "        except:\n",
    "            continue"
   ],
   "metadata": {
    "collapsed": false,
    "ExecuteTime": {
     "end_time": "2023-11-15T13:57:04.424825900Z",
     "start_time": "2023-11-15T13:00:10.484782800Z"
    }
   },
   "id": "5df8b81e973b160a"
  },
  {
   "cell_type": "markdown",
   "source": [
    "# Pré-processando o dataset LiveQA"
   ],
   "metadata": {
    "collapsed": false
   },
   "id": "b798f7e53ad59985"
  },
  {
   "cell_type": "code",
   "execution_count": 26,
   "outputs": [],
   "source": [
    "liveqa = load_dataset('truehealth/liveqa')['train']"
   ],
   "metadata": {
    "collapsed": false,
    "ExecuteTime": {
     "end_time": "2023-11-14T16:03:57.362667100Z",
     "start_time": "2023-11-14T16:03:53.683248600Z"
    }
   },
   "id": "9e3f480c9c45ee56"
  },
  {
   "cell_type": "code",
   "execution_count": 14,
   "outputs": [
    {
     "data": {
      "text/plain": "{'questionid': 'Q1',\n 'subject': None,\n 'message': 'Literature on Cardiac amyloidosis.  Please let me know where I can get literature on Cardiac amyloidosis.  My uncle died yesterday from this disorder.  Since this is such a rare disorder, and to honor his memory, I would like to distribute literature at his funeral service.  I am a retired NIH employee, so I am familiar with the campus in case you have literature at NIH that I can come and pick up.  Thank you ',\n 'focus': 'cardiac amyloidosis',\n 'type': 'information',\n 'answerid': 'Q1-S1-A1',\n 'pairid': '1',\n 'answer': 'Cardiac amyloidosis is a disorder caused by deposits of an abnormal protein (amyloid) in the heart tissue. These deposits make it hard for the heart to work properly.'}"
     },
     "execution_count": 14,
     "metadata": {},
     "output_type": "execute_result"
    }
   ],
   "source": [
    "liveqa[0]"
   ],
   "metadata": {
    "collapsed": false,
    "ExecuteTime": {
     "end_time": "2023-11-09T00:07:47.483981800Z",
     "start_time": "2023-11-09T00:07:47.475869Z"
    }
   },
   "id": "ebc5d7df2a6d48ad"
  },
  {
   "cell_type": "code",
   "execution_count": 42,
   "outputs": [
    {
     "name": "stderr",
     "output_type": "stream",
     "text": [
      "100%|██████████| 339/339 [1:11:45<00:00, 12.70s/it]   \n"
     ]
    }
   ],
   "source": [
    "for index in tqdm(range(len(liveqa))):\n",
    "    prompt = f\"Você irá receber uma pergunta e uma resposta, sobre dúvidas de consumidores, enviadas para especialistas médicos, em inglês. Você deve traduzir a pergunta e a resposta para o português. Para isso, fique atento a possíveis abreviações, expressões populares e polissemias, e traduza da melhor forma possível para o português, removendo possíveis ruídos do texto também. A pergunta está marcada com a tag <pergunta> e a resposta com a tag <resposta>.\\n Retorne a tradução da pergunta e da resposta em um json, de modo que a pergunta e a resposta traduzidas estejam em chaves 'pergunta' e 'resposta'. Segue um exemplo de retorno: '{{'pergunta':'pergunta traduzida', 'resposta':'resposta traduzida'}}'.\\n\\n <pergunta> {liveqa[index]['message']} <pergunta> \\n\\n <resposta> {liveqa[index]['answer']} <resposta> \\n.\"\n",
    "    \n",
    "    \n",
    "    try:\n",
    "        \n",
    "        resposta = traduzir_texto(gpt, prompt).replace('\\n', ' ')\n",
    "    \n",
    "        if resposta[-1] != \"}\":\n",
    "            resposta = resposta[:-1]\n",
    "            \n",
    "        resp = eval(resposta)\n",
    "        \n",
    "        dados.append([resp['pergunta'], resp['resposta']])\n",
    "        \n",
    "    except SyntaxError:\n",
    "        continue\n",
    "    \n",
    "    except:\n",
    "        gpt.reset_messages(maintain_context=False)\n",
    "        resposta = traduzir_texto(gpt, prompt[:int(len(prompt)*0.75)]).replace('\\n', ' ')\n",
    "    \n",
    "        if resposta[-1] != \"}\":\n",
    "            resposta = resposta[:-1]\n",
    "        \n",
    "        try:\n",
    "            resp = eval(resposta)\n",
    "            \n",
    "            dados.append([resp['pergunta'], resp['resposta']])\n",
    "            \n",
    "        except:\n",
    "            continue"
   ],
   "metadata": {
    "collapsed": false,
    "ExecuteTime": {
     "end_time": "2023-11-14T18:43:29.203617300Z",
     "start_time": "2023-11-14T17:31:43.605152100Z"
    }
   },
   "id": "46dee86223c1f3b6"
  },
  {
   "cell_type": "markdown",
   "source": [
    "# Pré-processando o dataset MedMCQA"
   ],
   "metadata": {
    "collapsed": false
   },
   "id": "bd27b4060e35b3b3"
  },
  {
   "cell_type": "code",
   "execution_count": 61,
   "outputs": [],
   "source": [
    "medmcqa = load_dataset('medmcqa')['train'].select(list(range(10000)))"
   ],
   "metadata": {
    "collapsed": false,
    "ExecuteTime": {
     "end_time": "2023-11-14T22:59:43.403619300Z",
     "start_time": "2023-11-14T22:59:39.316203900Z"
    }
   },
   "id": "bd01cac442a09fa1"
  },
  {
   "cell_type": "code",
   "execution_count": null,
   "outputs": [
    {
     "name": "stderr",
     "output_type": "stream",
     "text": [
      " 19%|█▉        | 1896/9977 [3:39:01<13:27:41,  6.00s/it]  "
     ]
    }
   ],
   "source": [
    "for index in tqdm(range(len(medmcqa))):\n",
    "    pergunta = medmcqa[index]['question']+\"\\n\"\n",
    "    pergunta+=f\"A){medmcqa[index]['opa']}\\n\"\n",
    "    pergunta+=f\"B){medmcqa[index]['opb']}\\n\"\n",
    "    pergunta+=f\"C){medmcqa[index]['opc']}\\n\"\n",
    "    pergunta+=f\"D){medmcqa[index]['opd']}\\n\"\n",
    "    \n",
    "    correta = ['A','B', 'C', 'D']\n",
    "    \n",
    "    try:\n",
    "        resposta = f\"Alternativa {correta[medmcqa[index]['cop']]}. {medmcqa[index]['exp']}.\"\n",
    "    except:\n",
    "        resposta = f\"Alternativa {correta[medmcqa[index]['cop']]}.\"\n",
    "    \n",
    "    prompt = f\"Você irá receber uma questão de múltipla escolha, em inglês, de modo que a você será passado o enunciado, junto com as alternativas, demarcadas por 'A)', 'B)', 'C)' e 'D)'. Além disso, você também receberá a resposta dessa questão, que pode conter apenas a letra correta, mas também a letra junto com uma explicação. Você deve traduzir a pergunta e a resposta para o português. Ao traduzir a pergunta, mantenha as alternativas 'A)', 'B)', 'C)' e 'D)', com suas respectivas traduções, não fuja desse formato. Também, fique atento a possíveis abreviações, expressões populares e polissemias, e traduza da melhor forma possível para o português, removendo possíveis ruídos do texto também. A pergunta/questão está marcada com a tag <pergunta> e a resposta com a tag <resposta>.\\n Retorne a tradução da pergunta e da resposta em um json, de modo que a pergunta e a resposta traduzidas estejam em chaves 'pergunta' e 'resposta'. Além disso, crie chaves para cada alternativa possível. Segue um exemplo, a ser seguido por você, de retorno: '{{'pergunta':'enunciado da questao', 'A': 'letra A', 'B': 'letra B', 'C': 'letra C', 'D': 'letra D', 'resposta':'resposta traduzida'}}'.\\n\\n <pergunta> {pergunta} <pergunta> \\n\\n <resposta> {resposta} <resposta> \\n.\"\n",
    "    \n",
    "    \n",
    "    try:\n",
    "        \n",
    "        resposta = traduzir_texto(gpt, prompt).replace('\\n', ' ')\n",
    "    \n",
    "        if resposta[-1] != \"}\":\n",
    "            resposta = resposta[:-1]\n",
    "            \n",
    "        resp = eval(resposta)\n",
    "        p = resp['pergunta']+\"\\n\"\n",
    "        p+=f\"A){resp['A']}\\n\"\n",
    "        p+=f\"B){resp['B']}\\n\"\n",
    "        p+=f\"C){resp['C']}\\n\"\n",
    "        p+=f\"D){resp['D']}\\n\"\n",
    "        \n",
    "        dados.append([p, resp['resposta']])\n",
    "        \n",
    "    except SyntaxError:\n",
    "        continue\n",
    "    \n",
    "    except:\n",
    "        gpt.reset_messages(maintain_context=False)\n",
    "        resposta = traduzir_texto(gpt, prompt[:int(len(prompt)*0.75)]).replace('\\n', ' ')\n",
    "    \n",
    "        if resposta[-1] != \"}\":\n",
    "            resposta = resposta[:-1]\n",
    "        \n",
    "        try:\n",
    "            resp = eval(resposta)\n",
    "            p = resp['pergunta']+\"\\n\"\n",
    "            p+=f\"A){resp['A']}\\n\"\n",
    "            p+=f\"B){resp['B']}\\n\"\n",
    "            p+=f\"C){resp['C']}\\n\"\n",
    "            p+=f\"D){resp['D']}\\n\"\n",
    "            \n",
    "            dados.append([p, resp['resposta']])\n",
    "            \n",
    "        except:\n",
    "            continue\n"
   ],
   "metadata": {
    "collapsed": false,
    "is_executing": true,
    "ExecuteTime": {
     "start_time": "2023-11-15T04:38:59.493090400Z"
    }
   },
   "id": "e72d6a86f64edbcb"
  },
  {
   "cell_type": "markdown",
   "source": [
    "# Pré-processando o dataset MedQA(USMLE)"
   ],
   "metadata": {
    "collapsed": false
   },
   "id": "30a003bb78ca391b"
  },
  {
   "cell_type": "code",
   "execution_count": 75,
   "outputs": [
    {
     "data": {
      "text/plain": "Downloading readme:   0%|          | 0.00/654 [00:00<?, ?B/s]",
      "application/vnd.jupyter.widget-view+json": {
       "version_major": 2,
       "version_minor": 0,
       "model_id": "d517c69f3e804fdd92cf6c20c257b722"
      }
     },
     "metadata": {},
     "output_type": "display_data"
    },
    {
     "data": {
      "text/plain": "Downloading data files:   0%|          | 0/2 [00:00<?, ?it/s]",
      "application/vnd.jupyter.widget-view+json": {
       "version_major": 2,
       "version_minor": 0,
       "model_id": "9ce91330c280460e903831989bfd0a50"
      }
     },
     "metadata": {},
     "output_type": "display_data"
    },
    {
     "data": {
      "text/plain": "Downloading data:   0%|          | 0.00/16.2M [00:00<?, ?B/s]",
      "application/vnd.jupyter.widget-view+json": {
       "version_major": 2,
       "version_minor": 0,
       "model_id": "aa118fe1b6a94c60a757845a5bb98fc3"
      }
     },
     "metadata": {},
     "output_type": "display_data"
    },
    {
     "data": {
      "text/plain": "Downloading data:   0%|          | 0.00/2.08M [00:00<?, ?B/s]",
      "application/vnd.jupyter.widget-view+json": {
       "version_major": 2,
       "version_minor": 0,
       "model_id": "4324ca49bcc247f78282e6885eec19d5"
      }
     },
     "metadata": {},
     "output_type": "display_data"
    },
    {
     "data": {
      "text/plain": "Extracting data files:   0%|          | 0/2 [00:00<?, ?it/s]",
      "application/vnd.jupyter.widget-view+json": {
       "version_major": 2,
       "version_minor": 0,
       "model_id": "20f1b722b6b042b0b93e816179067439"
      }
     },
     "metadata": {},
     "output_type": "display_data"
    },
    {
     "data": {
      "text/plain": "Generating train split: 0 examples [00:00, ? examples/s]",
      "application/vnd.jupyter.widget-view+json": {
       "version_major": 2,
       "version_minor": 0,
       "model_id": "68b393c103394a528c02813ae28fe06a"
      }
     },
     "metadata": {},
     "output_type": "display_data"
    },
    {
     "data": {
      "text/plain": "Generating test split: 0 examples [00:00, ? examples/s]",
      "application/vnd.jupyter.widget-view+json": {
       "version_major": 2,
       "version_minor": 0,
       "model_id": "bcb9c55575874e519ce5b810a33562cb"
      }
     },
     "metadata": {},
     "output_type": "display_data"
    }
   ],
   "source": [
    "medqa = load_dataset('GBaker/MedQA-USMLE-4-options')['train']"
   ],
   "metadata": {
    "collapsed": false,
    "ExecuteTime": {
     "end_time": "2023-11-09T21:05:41.165815500Z",
     "start_time": "2023-11-09T21:05:17.356706400Z"
    }
   },
   "id": "f372eceaccb08b57"
  },
  {
   "cell_type": "code",
   "execution_count": 86,
   "outputs": [
    {
     "name": "stderr",
     "output_type": "stream",
     "text": [
      "100%|██████████| 1974/1974 [1:24:37<00:00,  2.57s/it]\n"
     ]
    }
   ],
   "source": [
    "for index in tqdm(range(len(medqa))):\n",
    "    \n",
    "    pergunta = medqa[index]['question']+\"\\n\"\n",
    "    pergunta+=f\"A){medqa[index]['options']['A']}\\n\"\n",
    "    pergunta+=f\"B){medqa[index]['options']['B']}\\n\"\n",
    "    pergunta+=f\"C){medqa[index]['options']['C']}\\n\"\n",
    "    pergunta+=f\"D){medqa[index]['options']['D']}\\n\"\n",
    "    \n",
    "    try:\n",
    "        resposta = f\"Alternativa {medqa[index]['answer_idx']}. {medqa[index]['answer']}.\"\n",
    "        \n",
    "    except:\n",
    "        resposta = f\"Alternativa {medqa[index]['answer_idx']}\"\n",
    "        \n",
    "    \n",
    "    prompt = f\"Você irá receber uma questão de múltipla escolha, em inglês, de modo que a você será passado o enunciado, junto com as alternativas, demarcadas por 'A)', 'B)', 'C)' e 'D)'. Além disso, você também receberá a resposta dessa questão, que pode conter apenas a letra correta, mas também a letra junto com uma explicação. Você deve traduzir a pergunta e a resposta para o português. Ao traduzir a pergunta, mantenha as alternativas 'A)', 'B)', 'C)' e 'D)', com suas respectivas traduções, não fuja desse formato. Também, fique atento a possíveis abreviações, expressões populares e polissemias, e traduza da melhor forma possível para o português, removendo possíveis ruídos do texto também. A pergunta/questão está marcada com a tag <pergunta> e a resposta com a tag <resposta>.\\n Retorne a tradução da pergunta e da resposta em um json, de modo que a pergunta e a resposta traduzidas estejam em chaves 'pergunta' e 'resposta'. Além disso, crie chaves para cada alternativa possível. Segue um exemplo, a ser seguido por você, de retorno: '{{'pergunta':'enunciado da questao', 'A': 'letra A', 'B': 'letra B', 'C': 'letra C', 'D': 'letra D', 'resposta':'resposta traduzida'}}'.\\n\\n <pergunta> {pergunta} <pergunta> \\n\\n <resposta> {resposta} <resposta> \\n.\"\n",
    "    \n",
    "    \n",
    "    try:\n",
    "        \n",
    "        resposta = traduzir_texto(gpt, prompt).replace('\\n', ' ')\n",
    "    \n",
    "        if resposta[-1] != \"}\":\n",
    "            resposta = resposta[:-1]\n",
    "            \n",
    "        resp = eval(resposta)\n",
    "        p = resp['pergunta']+\"\\n\"\n",
    "        p+=f\"A){resp['A']}\\n\"\n",
    "        p+=f\"B){resp['B']}\\n\"\n",
    "        p+=f\"C){resp['C']}\\n\"\n",
    "        p+=f\"D){resp['D']}\\n\"\n",
    "        \n",
    "        dados.append([p, resp['resposta']])\n",
    "        \n",
    "    except SyntaxError:\n",
    "        continue\n",
    "    \n",
    "    except:\n",
    "        gpt.reset_messages(maintain_context=False)\n",
    "        resposta = traduzir_texto(gpt, prompt[:int(len(prompt)*0.75)]).replace('\\n', ' ')\n",
    "    \n",
    "        if resposta[-1] != \"}\":\n",
    "            resposta = resposta[:-1]\n",
    "        \n",
    "        try:\n",
    "            resp = eval(resposta)\n",
    "            p = resp['pergunta']+\"\\n\"\n",
    "            p+=f\"A){resp['A']}\\n\"\n",
    "            p+=f\"B){resp['B']}\\n\"\n",
    "            p+=f\"C){resp['C']}\\n\"\n",
    "            p+=f\"D){resp['D']}\\n\"\n",
    "            \n",
    "            dados.append([p, resp['resposta']])\n",
    "            \n",
    "        except:\n",
    "            continue"
   ],
   "metadata": {
    "collapsed": false,
    "ExecuteTime": {
     "end_time": "2023-11-10T04:30:21.782157300Z",
     "start_time": "2023-11-10T03:05:44.692037500Z"
    }
   },
   "id": "80131e482f3831ea"
  },
  {
   "cell_type": "markdown",
   "source": [
    "# Reunindo os dados captados em um DataFrame"
   ],
   "metadata": {
    "collapsed": false
   },
   "id": "a9a0e8feca8cfc1c"
  },
  {
   "cell_type": "code",
   "execution_count": 22,
   "outputs": [],
   "source": [
    "import pandas as pd"
   ],
   "metadata": {
    "collapsed": false,
    "ExecuteTime": {
     "end_time": "2023-11-16T14:56:35.872032800Z",
     "start_time": "2023-11-16T14:56:35.840772100Z"
    }
   },
   "id": "da841490786fa906"
  },
  {
   "cell_type": "code",
   "execution_count": 12,
   "outputs": [],
   "source": [
    "df = pd.DataFrame(dados, columns=['instruction', 'output'])"
   ],
   "metadata": {
    "collapsed": false,
    "ExecuteTime": {
     "end_time": "2023-11-15T13:57:21.044234800Z",
     "start_time": "2023-11-15T13:57:21.012982200Z"
    }
   },
   "id": "8e59087b0b031540"
  },
  {
   "cell_type": "code",
   "execution_count": 32,
   "outputs": [
    {
     "data": {
      "text/plain": "                                             instruction  \\\n0      Como o rivastigmina e o medicamento para dormi...   \n1                         Como o valium afeta o cérebro?   \n2                                       O que é morfina?   \n3                Quais são os miligramas para oxycodone?   \n4        81% de aspirina contém resina e goma-laca nela?   \n...                                                  ...   \n21122  Um homem de 60 anos se apresenta ao departamen...   \n21123  Um homem de 45 anos com uma história de 15 ano...   \n21124  Após receber um resultado positivo no teste de...   \n21125  Um homem de 25 anos vai ao consultório por cau...   \n21126  Uma mulher primigesta de 26 anos procura o dep...   \n\n                                                  output  \n0      Informe ao seu médico e farmacêutico quais med...  \n1      O diazepam é uma benzodiazepina que exerce efe...  \n2      A morfina é um medicamento para dor da família...  \n3            ... 10 mg ... 20 mg ... 40 mg ... 80 mg ...  \n4              Ingredientes inativos Nome do ingrediente  \n...                                                  ...  \n21122          Alternativa B. Administrar desmopressina.  \n21123  Alternativa B. Razão de microalbumina para cre...  \n21124                      Alternativa B. Acetaminofeno.  \n21125     Alternativa C. Oxidase de ácido homogentísico.  \n21126             Alternativa C. Gravidez molar parcial.  \n\n[21127 rows x 2 columns]",
      "text/html": "<div>\n<style scoped>\n    .dataframe tbody tr th:only-of-type {\n        vertical-align: middle;\n    }\n\n    .dataframe tbody tr th {\n        vertical-align: top;\n    }\n\n    .dataframe thead th {\n        text-align: right;\n    }\n</style>\n<table border=\"1\" class=\"dataframe\">\n  <thead>\n    <tr style=\"text-align: right;\">\n      <th></th>\n      <th>instruction</th>\n      <th>output</th>\n    </tr>\n  </thead>\n  <tbody>\n    <tr>\n      <th>0</th>\n      <td>Como o rivastigmina e o medicamento para dormi...</td>\n      <td>Informe ao seu médico e farmacêutico quais med...</td>\n    </tr>\n    <tr>\n      <th>1</th>\n      <td>Como o valium afeta o cérebro?</td>\n      <td>O diazepam é uma benzodiazepina que exerce efe...</td>\n    </tr>\n    <tr>\n      <th>2</th>\n      <td>O que é morfina?</td>\n      <td>A morfina é um medicamento para dor da família...</td>\n    </tr>\n    <tr>\n      <th>3</th>\n      <td>Quais são os miligramas para oxycodone?</td>\n      <td>... 10 mg ... 20 mg ... 40 mg ... 80 mg ...</td>\n    </tr>\n    <tr>\n      <th>4</th>\n      <td>81% de aspirina contém resina e goma-laca nela?</td>\n      <td>Ingredientes inativos Nome do ingrediente</td>\n    </tr>\n    <tr>\n      <th>...</th>\n      <td>...</td>\n      <td>...</td>\n    </tr>\n    <tr>\n      <th>21122</th>\n      <td>Um homem de 60 anos se apresenta ao departamen...</td>\n      <td>Alternativa B. Administrar desmopressina.</td>\n    </tr>\n    <tr>\n      <th>21123</th>\n      <td>Um homem de 45 anos com uma história de 15 ano...</td>\n      <td>Alternativa B. Razão de microalbumina para cre...</td>\n    </tr>\n    <tr>\n      <th>21124</th>\n      <td>Após receber um resultado positivo no teste de...</td>\n      <td>Alternativa B. Acetaminofeno.</td>\n    </tr>\n    <tr>\n      <th>21125</th>\n      <td>Um homem de 25 anos vai ao consultório por cau...</td>\n      <td>Alternativa C. Oxidase de ácido homogentísico.</td>\n    </tr>\n    <tr>\n      <th>21126</th>\n      <td>Uma mulher primigesta de 26 anos procura o dep...</td>\n      <td>Alternativa C. Gravidez molar parcial.</td>\n    </tr>\n  </tbody>\n</table>\n<p>21127 rows × 2 columns</p>\n</div>"
     },
     "execution_count": 32,
     "metadata": {},
     "output_type": "execute_result"
    }
   ],
   "source": [
    "df"
   ],
   "metadata": {
    "collapsed": false,
    "ExecuteTime": {
     "end_time": "2023-11-16T15:48:33.641789200Z",
     "start_time": "2023-11-16T15:48:33.594478100Z"
    }
   },
   "id": "9c50cc0d56ed9e9d"
  },
  {
   "cell_type": "code",
   "execution_count": 33,
   "outputs": [
    {
     "data": {
      "text/plain": "(21127, 2)"
     },
     "execution_count": 33,
     "metadata": {},
     "output_type": "execute_result"
    }
   ],
   "source": [
    "df.shape"
   ],
   "metadata": {
    "collapsed": false,
    "ExecuteTime": {
     "end_time": "2023-11-16T15:48:35.057295Z",
     "start_time": "2023-11-16T15:48:35.041645100Z"
    }
   },
   "id": "e07407a8f6361468"
  },
  {
   "cell_type": "code",
   "execution_count": 34,
   "outputs": [],
   "source": [
    "df.to_csv('../dados/treino/drbyte_ptbr_treino.csv', index=False)"
   ],
   "metadata": {
    "collapsed": false,
    "ExecuteTime": {
     "end_time": "2023-11-16T15:48:36.625083200Z",
     "start_time": "2023-11-16T15:48:36.338477200Z"
    }
   },
   "id": "237657143cf0cca6"
  },
  {
   "cell_type": "code",
   "execution_count": null,
   "outputs": [],
   "source": [],
   "metadata": {
    "collapsed": false
   },
   "id": "37a127963aecb76a"
  }
 ],
 "metadata": {
  "kernelspec": {
   "display_name": "Python 3",
   "language": "python",
   "name": "python3"
  },
  "language_info": {
   "codemirror_mode": {
    "name": "ipython",
    "version": 2
   },
   "file_extension": ".py",
   "mimetype": "text/x-python",
   "name": "python",
   "nbconvert_exporter": "python",
   "pygments_lexer": "ipython2",
   "version": "2.7.6"
  }
 },
 "nbformat": 4,
 "nbformat_minor": 5
}
